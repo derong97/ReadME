{
 "cells": [
  {
   "cell_type": "code",
   "execution_count": 47,
   "metadata": {
    "ExecuteTime": {
     "end_time": "2020-11-08T06:32:30.725096Z",
     "start_time": "2020-11-08T06:32:30.722094Z"
    }
   },
   "outputs": [],
   "source": [
    "import pandas as pd\n",
    "import numpy as np"
   ]
  },
  {
   "cell_type": "markdown",
   "metadata": {},
   "source": [
    "After running webscrapping, you might have separate files. \n",
    "Convert all .csvs files into TSVs. Before running the below cells. Using Excel. "
   ]
  },
  {
   "cell_type": "markdown",
   "metadata": {},
   "source": [
    "In this case, we have 5 .csvs, so we convert into .txt (tab-limited) using Excel."
   ]
  },
  {
   "cell_type": "code",
   "execution_count": 57,
   "metadata": {
    "ExecuteTime": {
     "end_time": "2020-11-08T06:40:54.136738Z",
     "start_time": "2020-11-08T06:40:54.130740Z"
    }
   },
   "outputs": [
    {
     "data": {
      "text/plain": [
       "['output1.txt', 'output2.txt', 'output3.txt', 'output4.txt', 'output5.txt']"
      ]
     },
     "execution_count": 57,
     "metadata": {},
     "output_type": "execute_result"
    }
   ],
   "source": [
    "list_of_files = []\n",
    "for i in range(1,6):\n",
    "    list_of_files.append(f'output{i}.txt')\n",
    "list_of_files"
   ]
  },
  {
   "cell_type": "code",
   "execution_count": 62,
   "metadata": {
    "ExecuteTime": {
     "end_time": "2020-11-08T06:45:01.354934Z",
     "start_time": "2020-11-08T06:45:01.346936Z"
    }
   },
   "outputs": [],
   "source": [
    "outputdf = pd.DataFrame(columns=['asin', 'title'])"
   ]
  },
  {
   "cell_type": "code",
   "execution_count": 63,
   "metadata": {
    "ExecuteTime": {
     "end_time": "2020-11-08T06:45:02.000667Z",
     "start_time": "2020-11-08T06:45:01.992666Z"
    }
   },
   "outputs": [
    {
     "data": {
      "text/html": [
       "<div>\n",
       "<style scoped>\n",
       "    .dataframe tbody tr th:only-of-type {\n",
       "        vertical-align: middle;\n",
       "    }\n",
       "\n",
       "    .dataframe tbody tr th {\n",
       "        vertical-align: top;\n",
       "    }\n",
       "\n",
       "    .dataframe thead th {\n",
       "        text-align: right;\n",
       "    }\n",
       "</style>\n",
       "<table border=\"1\" class=\"dataframe\">\n",
       "  <thead>\n",
       "    <tr style=\"text-align: right;\">\n",
       "      <th></th>\n",
       "      <th>asin</th>\n",
       "      <th>title</th>\n",
       "    </tr>\n",
       "  </thead>\n",
       "  <tbody>\n",
       "  </tbody>\n",
       "</table>\n",
       "</div>"
      ],
      "text/plain": [
       "Empty DataFrame\n",
       "Columns: [asin, title]\n",
       "Index: []"
      ]
     },
     "execution_count": 63,
     "metadata": {},
     "output_type": "execute_result"
    }
   ],
   "source": [
    "outputdf"
   ]
  },
  {
   "cell_type": "code",
   "execution_count": 66,
   "metadata": {
    "ExecuteTime": {
     "end_time": "2020-11-08T06:46:58.384055Z",
     "start_time": "2020-11-08T06:46:57.067958Z"
    }
   },
   "outputs": [
    {
     "name": "stderr",
     "output_type": "stream",
     "text": [
      "C:\\Users\\kting\\.conda\\envs\\internship\\lib\\site-packages\\IPython\\core\\interactiveshell.py:3072: DtypeWarning: Columns (5,6,7,8,9) have mixed types.Specify dtype option on import or set low_memory=False.\n",
      "  interactivity=interactivity, compiler=compiler, result=result)\n"
     ]
    }
   ],
   "source": [
    "list_of_df = []\n",
    "for f in list_of_files:\n",
    "    df = pd.read_csv(f, sep='\\t', header=None)\n",
    "    df.rename(columns={1:'title'}, inplace=True)\n",
    "    df['asin'] = df[0].map(lambda x : x.strip('\\n'))\n",
    "    df = df.drop(0, axis=1)\n",
    "    df['len'] = df['asin'].map(lambda x : len(x))\n",
    "    df = df[df['len'] == 10].copy()\n",
    "    df = df[['asin', 'title']]\n",
    "    list_of_df.append(df)\n",
    "outputdf = pd.concat(list_of_df).reset_index(drop=True)"
   ]
  },
  {
   "cell_type": "code",
   "execution_count": 68,
   "metadata": {
    "ExecuteTime": {
     "end_time": "2020-11-08T06:48:54.803355Z",
     "start_time": "2020-11-08T06:48:53.954875Z"
    }
   },
   "outputs": [],
   "source": [
    "outputdf.to_csv('alltitles.csv', index=False)"
   ]
  },
  {
   "cell_type": "code",
   "execution_count": null,
   "metadata": {},
   "outputs": [],
   "source": []
  }
 ],
 "metadata": {
  "kernelspec": {
   "display_name": "Python [conda env:.conda-internship]",
   "language": "python",
   "name": "conda-env-.conda-internship-py"
  },
  "language_info": {
   "codemirror_mode": {
    "name": "ipython",
    "version": 3
   },
   "file_extension": ".py",
   "mimetype": "text/x-python",
   "name": "python",
   "nbconvert_exporter": "python",
   "pygments_lexer": "ipython3",
   "version": "3.7.7"
  }
 },
 "nbformat": 4,
 "nbformat_minor": 4
}
