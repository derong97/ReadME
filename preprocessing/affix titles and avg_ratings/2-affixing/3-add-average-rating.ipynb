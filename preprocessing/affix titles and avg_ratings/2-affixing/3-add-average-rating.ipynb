{
 "cells": [
  {
   "cell_type": "markdown",
   "metadata": {},
   "source": [
    "We obtained average rating csv from MySQL workbench.\n",
    "\n",
    "This is achieved by running the following SQL query:\n",
    "\n",
    "```mysql\n",
    "SELECT \n",
    "    asin, AVG(overall)\n",
    "FROM\n",
    "    readme_sql.Kindle\n",
    "GROUP BY asin;\n",
    "```\n",
    "\n",
    "Then export the resulting file into a .csv file: `avg_rating.csv`.\n",
    "\n"
   ]
  },
  {
   "cell_type": "code",
   "execution_count": 1,
   "metadata": {
    "ExecuteTime": {
     "end_time": "2020-11-15T08:25:46.731442Z",
     "start_time": "2020-11-15T08:25:46.038599Z"
    }
   },
   "outputs": [],
   "source": [
    "import pandas as pd\n",
    "import numpy as np"
   ]
  },
  {
   "cell_type": "code",
   "execution_count": 2,
   "metadata": {
    "ExecuteTime": {
     "end_time": "2020-11-15T08:25:51.179991Z",
     "start_time": "2020-11-15T08:25:51.141640Z"
    }
   },
   "outputs": [],
   "source": [
    "df = pd.read_csv('Raw/avg_rating.csv')"
   ]
  },
  {
   "cell_type": "code",
   "execution_count": 3,
   "metadata": {
    "ExecuteTime": {
     "end_time": "2020-11-15T08:25:51.841943Z",
     "start_time": "2020-11-15T08:25:51.821941Z"
    }
   },
   "outputs": [
    {
     "data": {
      "text/html": [
       "<div>\n",
       "<style scoped>\n",
       "    .dataframe tbody tr th:only-of-type {\n",
       "        vertical-align: middle;\n",
       "    }\n",
       "\n",
       "    .dataframe tbody tr th {\n",
       "        vertical-align: top;\n",
       "    }\n",
       "\n",
       "    .dataframe thead th {\n",
       "        text-align: right;\n",
       "    }\n",
       "</style>\n",
       "<table border=\"1\" class=\"dataframe\">\n",
       "  <thead>\n",
       "    <tr style=\"text-align: right;\">\n",
       "      <th></th>\n",
       "      <th>asin</th>\n",
       "      <th>AVG(overall)</th>\n",
       "    </tr>\n",
       "  </thead>\n",
       "  <tbody>\n",
       "    <tr>\n",
       "      <th>0</th>\n",
       "      <td>B000F83SZQ</td>\n",
       "      <td>4.2500</td>\n",
       "    </tr>\n",
       "    <tr>\n",
       "      <th>1</th>\n",
       "      <td>B000F83SZQa</td>\n",
       "      <td>3.0000</td>\n",
       "    </tr>\n",
       "    <tr>\n",
       "      <th>2</th>\n",
       "      <td>B000FA64PA</td>\n",
       "      <td>4.2000</td>\n",
       "    </tr>\n",
       "    <tr>\n",
       "      <th>3</th>\n",
       "      <td>B000FA64PK</td>\n",
       "      <td>4.3750</td>\n",
       "    </tr>\n",
       "    <tr>\n",
       "      <th>4</th>\n",
       "      <td>B000FA64QO</td>\n",
       "      <td>3.8000</td>\n",
       "    </tr>\n",
       "    <tr>\n",
       "      <th>...</th>\n",
       "      <td>...</td>\n",
       "      <td>...</td>\n",
       "    </tr>\n",
       "    <tr>\n",
       "      <th>61930</th>\n",
       "      <td>B00LZFHL7Y</td>\n",
       "      <td>4.7500</td>\n",
       "    </tr>\n",
       "    <tr>\n",
       "      <th>61931</th>\n",
       "      <td>B00LZKMXBI</td>\n",
       "      <td>4.8133</td>\n",
       "    </tr>\n",
       "    <tr>\n",
       "      <th>61932</th>\n",
       "      <td>B00M029T4O</td>\n",
       "      <td>4.9091</td>\n",
       "    </tr>\n",
       "    <tr>\n",
       "      <th>61933</th>\n",
       "      <td>B00M0RE7CS</td>\n",
       "      <td>4.9655</td>\n",
       "    </tr>\n",
       "    <tr>\n",
       "      <th>61934</th>\n",
       "      <td>B00M13FNSS</td>\n",
       "      <td>4.8571</td>\n",
       "    </tr>\n",
       "  </tbody>\n",
       "</table>\n",
       "<p>61935 rows × 2 columns</p>\n",
       "</div>"
      ],
      "text/plain": [
       "              asin  AVG(overall)\n",
       "0       B000F83SZQ        4.2500\n",
       "1      B000F83SZQa        3.0000\n",
       "2       B000FA64PA        4.2000\n",
       "3       B000FA64PK        4.3750\n",
       "4       B000FA64QO        3.8000\n",
       "...            ...           ...\n",
       "61930   B00LZFHL7Y        4.7500\n",
       "61931   B00LZKMXBI        4.8133\n",
       "61932   B00M029T4O        4.9091\n",
       "61933   B00M0RE7CS        4.9655\n",
       "61934   B00M13FNSS        4.8571\n",
       "\n",
       "[61935 rows x 2 columns]"
      ]
     },
     "execution_count": 3,
     "metadata": {},
     "output_type": "execute_result"
    }
   ],
   "source": [
    "df"
   ]
  },
  {
   "cell_type": "markdown",
   "metadata": {},
   "source": [
    "# Load the metadata with titles from 2nd notebook"
   ]
  },
  {
   "cell_type": "code",
   "execution_count": 8,
   "metadata": {
    "ExecuteTime": {
     "end_time": "2020-11-15T08:32:45.199063Z",
     "start_time": "2020-11-15T08:32:27.102045Z"
    }
   },
   "outputs": [],
   "source": [
    "dftitles = pd.read_json('Output/metadata_with_title.json', lines=True)"
   ]
  },
  {
   "cell_type": "code",
   "execution_count": 10,
   "metadata": {
    "ExecuteTime": {
     "end_time": "2020-11-15T08:33:13.132890Z",
     "start_time": "2020-11-15T08:33:13.101890Z"
    }
   },
   "outputs": [
    {
     "data": {
      "text/html": [
       "<div>\n",
       "<style scoped>\n",
       "    .dataframe tbody tr th:only-of-type {\n",
       "        vertical-align: middle;\n",
       "    }\n",
       "\n",
       "    .dataframe tbody tr th {\n",
       "        vertical-align: top;\n",
       "    }\n",
       "\n",
       "    .dataframe thead th {\n",
       "        text-align: right;\n",
       "    }\n",
       "</style>\n",
       "<table border=\"1\" class=\"dataframe\">\n",
       "  <thead>\n",
       "    <tr style=\"text-align: right;\">\n",
       "      <th></th>\n",
       "      <th>asin</th>\n",
       "      <th>description</th>\n",
       "      <th>price</th>\n",
       "      <th>imUrl</th>\n",
       "      <th>related</th>\n",
       "      <th>categories</th>\n",
       "      <th>salesRank</th>\n",
       "      <th>brand</th>\n",
       "      <th>title</th>\n",
       "    </tr>\n",
       "  </thead>\n",
       "  <tbody>\n",
       "    <tr>\n",
       "      <th>0</th>\n",
       "      <td>1603420304</td>\n",
       "      <td>In less time and for less money than it takes ...</td>\n",
       "      <td>7.69</td>\n",
       "      <td>http://ecx.images-amazon.com/images/I/51IEqPrF...</td>\n",
       "      <td>{'also_viewed': ['B001OLRKLQ', 'B004J35JIC', '...</td>\n",
       "      <td>[[Books, Cookbooks, Food &amp; Wine, Quick &amp; Easy]...</td>\n",
       "      <td>None</td>\n",
       "      <td>None</td>\n",
       "      <td>None</td>\n",
       "    </tr>\n",
       "    <tr>\n",
       "      <th>1</th>\n",
       "      <td>B0002IQ15S</td>\n",
       "      <td>This universal DC adapter powers/charges porta...</td>\n",
       "      <td>19.99</td>\n",
       "      <td>http://ecx.images-amazon.com/images/I/21QFJM28...</td>\n",
       "      <td>{'also_viewed': ['B00511PS3C', 'B000PI17MM', '...</td>\n",
       "      <td>[[Kindle Store, Kindle Accessories, Power Adap...</td>\n",
       "      <td>{}</td>\n",
       "      <td>None</td>\n",
       "      <td>None</td>\n",
       "    </tr>\n",
       "    <tr>\n",
       "      <th>2</th>\n",
       "      <td>B000F83SZQ</td>\n",
       "      <td>None</td>\n",
       "      <td>0.00</td>\n",
       "      <td>http://ecx.images-amazon.com/images/I/51yLqHe%...</td>\n",
       "      <td>{'also_bought': ['B0080H1C0W', 'B00LK4ZKOG', '...</td>\n",
       "      <td>[[Books, Literature &amp; Fiction], [Books, Myster...</td>\n",
       "      <td>None</td>\n",
       "      <td>None</td>\n",
       "      <td>A Matter of Policy [An Amy Brewster Mystery]</td>\n",
       "    </tr>\n",
       "    <tr>\n",
       "      <th>3</th>\n",
       "      <td>B000F83TEQ</td>\n",
       "      <td>None</td>\n",
       "      <td>NaN</td>\n",
       "      <td>http://ecx.images-amazon.com/images/I/2136NBNV...</td>\n",
       "      <td>{'also_bought': ['B00IS81LFO', 'B000FA5T6A', '...</td>\n",
       "      <td>[[Books, Literature &amp; Fiction], [Books, Myster...</td>\n",
       "      <td>None</td>\n",
       "      <td>None</td>\n",
       "      <td>Gold Coffin Murder Case</td>\n",
       "    </tr>\n",
       "    <tr>\n",
       "      <th>4</th>\n",
       "      <td>B000F83STC</td>\n",
       "      <td>None</td>\n",
       "      <td>NaN</td>\n",
       "      <td>http://g-ecx.images-amazon.com/images/G/01/x-s...</td>\n",
       "      <td>None</td>\n",
       "      <td>[[Books, Literature &amp; Fiction, Erotica], [Kind...</td>\n",
       "      <td>None</td>\n",
       "      <td>None</td>\n",
       "      <td>Erotic Flowers</td>\n",
       "    </tr>\n",
       "  </tbody>\n",
       "</table>\n",
       "</div>"
      ],
      "text/plain": [
       "         asin                                        description  price  \\\n",
       "0  1603420304  In less time and for less money than it takes ...   7.69   \n",
       "1  B0002IQ15S  This universal DC adapter powers/charges porta...  19.99   \n",
       "2  B000F83SZQ                                               None   0.00   \n",
       "3  B000F83TEQ                                               None    NaN   \n",
       "4  B000F83STC                                               None    NaN   \n",
       "\n",
       "                                               imUrl  \\\n",
       "0  http://ecx.images-amazon.com/images/I/51IEqPrF...   \n",
       "1  http://ecx.images-amazon.com/images/I/21QFJM28...   \n",
       "2  http://ecx.images-amazon.com/images/I/51yLqHe%...   \n",
       "3  http://ecx.images-amazon.com/images/I/2136NBNV...   \n",
       "4  http://g-ecx.images-amazon.com/images/G/01/x-s...   \n",
       "\n",
       "                                             related  \\\n",
       "0  {'also_viewed': ['B001OLRKLQ', 'B004J35JIC', '...   \n",
       "1  {'also_viewed': ['B00511PS3C', 'B000PI17MM', '...   \n",
       "2  {'also_bought': ['B0080H1C0W', 'B00LK4ZKOG', '...   \n",
       "3  {'also_bought': ['B00IS81LFO', 'B000FA5T6A', '...   \n",
       "4                                               None   \n",
       "\n",
       "                                          categories salesRank brand  \\\n",
       "0  [[Books, Cookbooks, Food & Wine, Quick & Easy]...      None  None   \n",
       "1  [[Kindle Store, Kindle Accessories, Power Adap...        {}  None   \n",
       "2  [[Books, Literature & Fiction], [Books, Myster...      None  None   \n",
       "3  [[Books, Literature & Fiction], [Books, Myster...      None  None   \n",
       "4  [[Books, Literature & Fiction, Erotica], [Kind...      None  None   \n",
       "\n",
       "                                          title  \n",
       "0                                          None  \n",
       "1                                          None  \n",
       "2  A Matter of Policy [An Amy Brewster Mystery]  \n",
       "3                       Gold Coffin Murder Case  \n",
       "4                                Erotic Flowers  "
      ]
     },
     "execution_count": 10,
     "metadata": {},
     "output_type": "execute_result"
    }
   ],
   "source": [
    "dftitles.head()"
   ]
  },
  {
   "cell_type": "markdown",
   "metadata": {},
   "source": [
    "# Merge the 2 dataframes together"
   ]
  },
  {
   "cell_type": "code",
   "execution_count": 13,
   "metadata": {
    "ExecuteTime": {
     "end_time": "2020-11-15T08:37:45.373959Z",
     "start_time": "2020-11-15T08:37:45.365958Z"
    }
   },
   "outputs": [
    {
     "name": "stdout",
     "output_type": "stream",
     "text": [
      "There's only 61935 distinct books referenced in Kindle reviews, versus the number of distinct books (434972) in the metadata.\n"
     ]
    }
   ],
   "source": [
    "print(f\"There's only {len(df)} distinct books referenced in Kindle reviews, versus the number of distinct books ({len(dftitles)}) in the metadata.\")"
   ]
  },
  {
   "cell_type": "code",
   "execution_count": 15,
   "metadata": {
    "ExecuteTime": {
     "end_time": "2020-11-15T09:04:40.576918Z",
     "start_time": "2020-11-15T09:04:39.720849Z"
    }
   },
   "outputs": [],
   "source": [
    "dfout = dftitles.merge(df, left_on='asin', right_on='asin', how='left')"
   ]
  },
  {
   "cell_type": "code",
   "execution_count": 16,
   "metadata": {
    "ExecuteTime": {
     "end_time": "2020-11-15T09:04:42.834706Z",
     "start_time": "2020-11-15T09:04:42.567376Z"
    }
   },
   "outputs": [],
   "source": [
    "dfout.rename(columns={'AVG(overall)':'avg_rating'}, inplace=True)"
   ]
  },
  {
   "cell_type": "code",
   "execution_count": 17,
   "metadata": {
    "ExecuteTime": {
     "end_time": "2020-11-15T09:04:43.539378Z",
     "start_time": "2020-11-15T09:04:43.497377Z"
    }
   },
   "outputs": [
    {
     "data": {
      "text/html": [
       "<div>\n",
       "<style scoped>\n",
       "    .dataframe tbody tr th:only-of-type {\n",
       "        vertical-align: middle;\n",
       "    }\n",
       "\n",
       "    .dataframe tbody tr th {\n",
       "        vertical-align: top;\n",
       "    }\n",
       "\n",
       "    .dataframe thead th {\n",
       "        text-align: right;\n",
       "    }\n",
       "</style>\n",
       "<table border=\"1\" class=\"dataframe\">\n",
       "  <thead>\n",
       "    <tr style=\"text-align: right;\">\n",
       "      <th></th>\n",
       "      <th>asin</th>\n",
       "      <th>description</th>\n",
       "      <th>price</th>\n",
       "      <th>imUrl</th>\n",
       "      <th>related</th>\n",
       "      <th>categories</th>\n",
       "      <th>salesRank</th>\n",
       "      <th>brand</th>\n",
       "      <th>title</th>\n",
       "      <th>avg_rating</th>\n",
       "    </tr>\n",
       "  </thead>\n",
       "  <tbody>\n",
       "    <tr>\n",
       "      <th>0</th>\n",
       "      <td>1603420304</td>\n",
       "      <td>In less time and for less money than it takes ...</td>\n",
       "      <td>7.69</td>\n",
       "      <td>http://ecx.images-amazon.com/images/I/51IEqPrF...</td>\n",
       "      <td>{'also_viewed': ['B001OLRKLQ', 'B004J35JIC', '...</td>\n",
       "      <td>[[Books, Cookbooks, Food &amp; Wine, Quick &amp; Easy]...</td>\n",
       "      <td>None</td>\n",
       "      <td>None</td>\n",
       "      <td>None</td>\n",
       "      <td>NaN</td>\n",
       "    </tr>\n",
       "    <tr>\n",
       "      <th>1</th>\n",
       "      <td>B0002IQ15S</td>\n",
       "      <td>This universal DC adapter powers/charges porta...</td>\n",
       "      <td>19.99</td>\n",
       "      <td>http://ecx.images-amazon.com/images/I/21QFJM28...</td>\n",
       "      <td>{'also_viewed': ['B00511PS3C', 'B000PI17MM', '...</td>\n",
       "      <td>[[Kindle Store, Kindle Accessories, Power Adap...</td>\n",
       "      <td>{}</td>\n",
       "      <td>None</td>\n",
       "      <td>None</td>\n",
       "      <td>NaN</td>\n",
       "    </tr>\n",
       "    <tr>\n",
       "      <th>2</th>\n",
       "      <td>B000F83SZQ</td>\n",
       "      <td>None</td>\n",
       "      <td>0.00</td>\n",
       "      <td>http://ecx.images-amazon.com/images/I/51yLqHe%...</td>\n",
       "      <td>{'also_bought': ['B0080H1C0W', 'B00LK4ZKOG', '...</td>\n",
       "      <td>[[Books, Literature &amp; Fiction], [Books, Myster...</td>\n",
       "      <td>None</td>\n",
       "      <td>None</td>\n",
       "      <td>A Matter of Policy [An Amy Brewster Mystery]</td>\n",
       "      <td>4.25</td>\n",
       "    </tr>\n",
       "    <tr>\n",
       "      <th>3</th>\n",
       "      <td>B000F83TEQ</td>\n",
       "      <td>None</td>\n",
       "      <td>NaN</td>\n",
       "      <td>http://ecx.images-amazon.com/images/I/2136NBNV...</td>\n",
       "      <td>{'also_bought': ['B00IS81LFO', 'B000FA5T6A', '...</td>\n",
       "      <td>[[Books, Literature &amp; Fiction], [Books, Myster...</td>\n",
       "      <td>None</td>\n",
       "      <td>None</td>\n",
       "      <td>Gold Coffin Murder Case</td>\n",
       "      <td>NaN</td>\n",
       "    </tr>\n",
       "    <tr>\n",
       "      <th>4</th>\n",
       "      <td>B000F83STC</td>\n",
       "      <td>None</td>\n",
       "      <td>NaN</td>\n",
       "      <td>http://g-ecx.images-amazon.com/images/G/01/x-s...</td>\n",
       "      <td>None</td>\n",
       "      <td>[[Books, Literature &amp; Fiction, Erotica], [Kind...</td>\n",
       "      <td>None</td>\n",
       "      <td>None</td>\n",
       "      <td>Erotic Flowers</td>\n",
       "      <td>NaN</td>\n",
       "    </tr>\n",
       "    <tr>\n",
       "      <th>...</th>\n",
       "      <td>...</td>\n",
       "      <td>...</td>\n",
       "      <td>...</td>\n",
       "      <td>...</td>\n",
       "      <td>...</td>\n",
       "      <td>...</td>\n",
       "      <td>...</td>\n",
       "      <td>...</td>\n",
       "      <td>...</td>\n",
       "      <td>...</td>\n",
       "    </tr>\n",
       "    <tr>\n",
       "      <th>434967</th>\n",
       "      <td>B00M111QCM</td>\n",
       "      <td>None</td>\n",
       "      <td>NaN</td>\n",
       "      <td>http://ecx.images-amazon.com/images/I/51D8m1ml...</td>\n",
       "      <td>None</td>\n",
       "      <td>[[Books, Business &amp; Money, Industries &amp; Profes...</td>\n",
       "      <td>None</td>\n",
       "      <td>None</td>\n",
       "      <td>How NOT to suck at hiring people using craigslist</td>\n",
       "      <td>NaN</td>\n",
       "    </tr>\n",
       "    <tr>\n",
       "      <th>434968</th>\n",
       "      <td>B00M0AEPXG</td>\n",
       "      <td>None</td>\n",
       "      <td>NaN</td>\n",
       "      <td>http://ecx.images-amazon.com/images/I/51hcXTUe...</td>\n",
       "      <td>None</td>\n",
       "      <td>[[Books, Politics &amp; Social Sciences, Women's S...</td>\n",
       "      <td>None</td>\n",
       "      <td>None</td>\n",
       "      <td>How to Be a Queen</td>\n",
       "      <td>NaN</td>\n",
       "    </tr>\n",
       "    <tr>\n",
       "      <th>434969</th>\n",
       "      <td>B00LZFHL7Y</td>\n",
       "      <td>None</td>\n",
       "      <td>0.99</td>\n",
       "      <td>http://ecx.images-amazon.com/images/I/41RDitlH...</td>\n",
       "      <td>{'also_bought': ['B00LXK4KIO', 'B00LZ19FE0', '...</td>\n",
       "      <td>[[Books, Literature &amp; Fiction, Erotica], [Kind...</td>\n",
       "      <td>None</td>\n",
       "      <td>None</td>\n",
       "      <td>Restoring Hope</td>\n",
       "      <td>4.75</td>\n",
       "    </tr>\n",
       "    <tr>\n",
       "      <th>434970</th>\n",
       "      <td>B00LV8M74W</td>\n",
       "      <td>None</td>\n",
       "      <td>3.99</td>\n",
       "      <td>http://ecx.images-amazon.com/images/I/51qUjk4b...</td>\n",
       "      <td>{'also_bought': ['B00LYOC1R6', 'B00L0WXZIG', '...</td>\n",
       "      <td>[[Books, Literature &amp; Fiction, Genre Fiction, ...</td>\n",
       "      <td>None</td>\n",
       "      <td>None</td>\n",
       "      <td>Contagious</td>\n",
       "      <td>5.00</td>\n",
       "    </tr>\n",
       "    <tr>\n",
       "      <th>434971</th>\n",
       "      <td>B00LV8STE4</td>\n",
       "      <td>None</td>\n",
       "      <td>NaN</td>\n",
       "      <td>http://ecx.images-amazon.com/images/I/51l7MLl%...</td>\n",
       "      <td>None</td>\n",
       "      <td>[[Books, Arts &amp; Photography, Music, Musical Ge...</td>\n",
       "      <td>None</td>\n",
       "      <td>None</td>\n",
       "      <td>Runnin' With The Big Dogs</td>\n",
       "      <td>NaN</td>\n",
       "    </tr>\n",
       "  </tbody>\n",
       "</table>\n",
       "<p>434972 rows × 10 columns</p>\n",
       "</div>"
      ],
      "text/plain": [
       "              asin                                        description  price  \\\n",
       "0       1603420304  In less time and for less money than it takes ...   7.69   \n",
       "1       B0002IQ15S  This universal DC adapter powers/charges porta...  19.99   \n",
       "2       B000F83SZQ                                               None   0.00   \n",
       "3       B000F83TEQ                                               None    NaN   \n",
       "4       B000F83STC                                               None    NaN   \n",
       "...            ...                                                ...    ...   \n",
       "434967  B00M111QCM                                               None    NaN   \n",
       "434968  B00M0AEPXG                                               None    NaN   \n",
       "434969  B00LZFHL7Y                                               None   0.99   \n",
       "434970  B00LV8M74W                                               None   3.99   \n",
       "434971  B00LV8STE4                                               None    NaN   \n",
       "\n",
       "                                                    imUrl  \\\n",
       "0       http://ecx.images-amazon.com/images/I/51IEqPrF...   \n",
       "1       http://ecx.images-amazon.com/images/I/21QFJM28...   \n",
       "2       http://ecx.images-amazon.com/images/I/51yLqHe%...   \n",
       "3       http://ecx.images-amazon.com/images/I/2136NBNV...   \n",
       "4       http://g-ecx.images-amazon.com/images/G/01/x-s...   \n",
       "...                                                   ...   \n",
       "434967  http://ecx.images-amazon.com/images/I/51D8m1ml...   \n",
       "434968  http://ecx.images-amazon.com/images/I/51hcXTUe...   \n",
       "434969  http://ecx.images-amazon.com/images/I/41RDitlH...   \n",
       "434970  http://ecx.images-amazon.com/images/I/51qUjk4b...   \n",
       "434971  http://ecx.images-amazon.com/images/I/51l7MLl%...   \n",
       "\n",
       "                                                  related  \\\n",
       "0       {'also_viewed': ['B001OLRKLQ', 'B004J35JIC', '...   \n",
       "1       {'also_viewed': ['B00511PS3C', 'B000PI17MM', '...   \n",
       "2       {'also_bought': ['B0080H1C0W', 'B00LK4ZKOG', '...   \n",
       "3       {'also_bought': ['B00IS81LFO', 'B000FA5T6A', '...   \n",
       "4                                                    None   \n",
       "...                                                   ...   \n",
       "434967                                               None   \n",
       "434968                                               None   \n",
       "434969  {'also_bought': ['B00LXK4KIO', 'B00LZ19FE0', '...   \n",
       "434970  {'also_bought': ['B00LYOC1R6', 'B00L0WXZIG', '...   \n",
       "434971                                               None   \n",
       "\n",
       "                                               categories salesRank brand  \\\n",
       "0       [[Books, Cookbooks, Food & Wine, Quick & Easy]...      None  None   \n",
       "1       [[Kindle Store, Kindle Accessories, Power Adap...        {}  None   \n",
       "2       [[Books, Literature & Fiction], [Books, Myster...      None  None   \n",
       "3       [[Books, Literature & Fiction], [Books, Myster...      None  None   \n",
       "4       [[Books, Literature & Fiction, Erotica], [Kind...      None  None   \n",
       "...                                                   ...       ...   ...   \n",
       "434967  [[Books, Business & Money, Industries & Profes...      None  None   \n",
       "434968  [[Books, Politics & Social Sciences, Women's S...      None  None   \n",
       "434969  [[Books, Literature & Fiction, Erotica], [Kind...      None  None   \n",
       "434970  [[Books, Literature & Fiction, Genre Fiction, ...      None  None   \n",
       "434971  [[Books, Arts & Photography, Music, Musical Ge...      None  None   \n",
       "\n",
       "                                                    title  avg_rating  \n",
       "0                                                    None         NaN  \n",
       "1                                                    None         NaN  \n",
       "2            A Matter of Policy [An Amy Brewster Mystery]        4.25  \n",
       "3                                 Gold Coffin Murder Case         NaN  \n",
       "4                                          Erotic Flowers         NaN  \n",
       "...                                                   ...         ...  \n",
       "434967  How NOT to suck at hiring people using craigslist         NaN  \n",
       "434968                                  How to Be a Queen         NaN  \n",
       "434969                                     Restoring Hope        4.75  \n",
       "434970                                         Contagious        5.00  \n",
       "434971                          Runnin' With The Big Dogs         NaN  \n",
       "\n",
       "[434972 rows x 10 columns]"
      ]
     },
     "execution_count": 17,
     "metadata": {},
     "output_type": "execute_result"
    }
   ],
   "source": [
    "dfout"
   ]
  },
  {
   "cell_type": "markdown",
   "metadata": {},
   "source": [
    "# Export the merged dataframe"
   ]
  },
  {
   "cell_type": "code",
   "execution_count": 19,
   "metadata": {
    "ExecuteTime": {
     "end_time": "2020-11-15T09:06:09.312422Z",
     "start_time": "2020-11-15T09:05:56.373865Z"
    }
   },
   "outputs": [],
   "source": [
    "dfout.to_json('Output/kindle_metadata_with_title_and_avgrating.json', orient='records', lines=True)"
   ]
  },
  {
   "cell_type": "code",
   "execution_count": null,
   "metadata": {},
   "outputs": [],
   "source": []
  }
 ],
 "metadata": {
  "kernelspec": {
   "display_name": "Python [conda env:.conda-internship]",
   "language": "python",
   "name": "conda-env-.conda-internship-py"
  },
  "language_info": {
   "codemirror_mode": {
    "name": "ipython",
    "version": 3
   },
   "file_extension": ".py",
   "mimetype": "text/x-python",
   "name": "python",
   "nbconvert_exporter": "python",
   "pygments_lexer": "ipython3",
   "version": "3.7.7"
  }
 },
 "nbformat": 4,
 "nbformat_minor": 4
}
