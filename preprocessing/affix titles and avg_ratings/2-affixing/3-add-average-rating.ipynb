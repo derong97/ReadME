{
 "cells": [
  {
   "cell_type": "markdown",
   "metadata": {},
   "source": [
    "We obtained average rating csv from MySQL workbench.\n",
    "\n",
    "This is achieved by running the following SQL query:\n",
    "\n",
    "```mysql\n",
    "SELECT \n",
    "    asin, AVG(overall)\n",
    "FROM\n",
    "    readme_sql.Kindle\n",
    "GROUP BY asin;\n",
    "```\n",
    "\n",
    "Then export the resulting file into a .csv file: `avg_rating.csv`.\n",
    "\n"
   ]
  },
  {
   "cell_type": "code",
   "execution_count": 1,
   "metadata": {
    "ExecuteTime": {
     "end_time": "2020-11-29T07:21:07.518388Z",
     "start_time": "2020-11-29T07:21:05.020610Z"
    }
   },
   "outputs": [],
   "source": [
    "import pandas as pd\n",
    "import numpy as np"
   ]
  },
  {
   "cell_type": "code",
   "execution_count": 2,
   "metadata": {
    "ExecuteTime": {
     "end_time": "2020-11-29T07:21:08.047462Z",
     "start_time": "2020-11-29T07:21:07.999609Z"
    }
   },
   "outputs": [],
   "source": [
    "df = pd.read_csv('Raw/avg_rating.csv')"
   ]
  },
  {
   "cell_type": "code",
   "execution_count": 3,
   "metadata": {
    "ExecuteTime": {
     "end_time": "2020-11-29T07:21:08.950613Z",
     "start_time": "2020-11-29T07:21:08.920613Z"
    }
   },
   "outputs": [
    {
     "data": {
      "text/html": [
       "<div>\n",
       "<style scoped>\n",
       "    .dataframe tbody tr th:only-of-type {\n",
       "        vertical-align: middle;\n",
       "    }\n",
       "\n",
       "    .dataframe tbody tr th {\n",
       "        vertical-align: top;\n",
       "    }\n",
       "\n",
       "    .dataframe thead th {\n",
       "        text-align: right;\n",
       "    }\n",
       "</style>\n",
       "<table border=\"1\" class=\"dataframe\">\n",
       "  <thead>\n",
       "    <tr style=\"text-align: right;\">\n",
       "      <th></th>\n",
       "      <th>asin</th>\n",
       "      <th>AVG(overall)</th>\n",
       "    </tr>\n",
       "  </thead>\n",
       "  <tbody>\n",
       "    <tr>\n",
       "      <th>0</th>\n",
       "      <td>B000F83SZQ</td>\n",
       "      <td>4.2500</td>\n",
       "    </tr>\n",
       "    <tr>\n",
       "      <th>1</th>\n",
       "      <td>B000F83SZQa</td>\n",
       "      <td>3.0000</td>\n",
       "    </tr>\n",
       "    <tr>\n",
       "      <th>2</th>\n",
       "      <td>B000FA64PA</td>\n",
       "      <td>4.2000</td>\n",
       "    </tr>\n",
       "    <tr>\n",
       "      <th>3</th>\n",
       "      <td>B000FA64PK</td>\n",
       "      <td>4.3750</td>\n",
       "    </tr>\n",
       "    <tr>\n",
       "      <th>4</th>\n",
       "      <td>B000FA64QO</td>\n",
       "      <td>3.8000</td>\n",
       "    </tr>\n",
       "    <tr>\n",
       "      <th>...</th>\n",
       "      <td>...</td>\n",
       "      <td>...</td>\n",
       "    </tr>\n",
       "    <tr>\n",
       "      <th>61930</th>\n",
       "      <td>B00LZFHL7Y</td>\n",
       "      <td>4.7500</td>\n",
       "    </tr>\n",
       "    <tr>\n",
       "      <th>61931</th>\n",
       "      <td>B00LZKMXBI</td>\n",
       "      <td>4.8133</td>\n",
       "    </tr>\n",
       "    <tr>\n",
       "      <th>61932</th>\n",
       "      <td>B00M029T4O</td>\n",
       "      <td>4.9091</td>\n",
       "    </tr>\n",
       "    <tr>\n",
       "      <th>61933</th>\n",
       "      <td>B00M0RE7CS</td>\n",
       "      <td>4.9655</td>\n",
       "    </tr>\n",
       "    <tr>\n",
       "      <th>61934</th>\n",
       "      <td>B00M13FNSS</td>\n",
       "      <td>4.8571</td>\n",
       "    </tr>\n",
       "  </tbody>\n",
       "</table>\n",
       "<p>61935 rows × 2 columns</p>\n",
       "</div>"
      ],
      "text/plain": [
       "              asin  AVG(overall)\n",
       "0       B000F83SZQ        4.2500\n",
       "1      B000F83SZQa        3.0000\n",
       "2       B000FA64PA        4.2000\n",
       "3       B000FA64PK        4.3750\n",
       "4       B000FA64QO        3.8000\n",
       "...            ...           ...\n",
       "61930   B00LZFHL7Y        4.7500\n",
       "61931   B00LZKMXBI        4.8133\n",
       "61932   B00M029T4O        4.9091\n",
       "61933   B00M0RE7CS        4.9655\n",
       "61934   B00M13FNSS        4.8571\n",
       "\n",
       "[61935 rows x 2 columns]"
      ]
     },
     "execution_count": 3,
     "metadata": {},
     "output_type": "execute_result"
    }
   ],
   "source": [
    "df"
   ]
  },
  {
   "cell_type": "markdown",
   "metadata": {},
   "source": [
    "# Load the metadata with titles from 2nd notebook"
   ]
  },
  {
   "cell_type": "code",
   "execution_count": 4,
   "metadata": {
    "ExecuteTime": {
     "end_time": "2020-11-29T07:21:33.587576Z",
     "start_time": "2020-11-29T07:21:15.408479Z"
    }
   },
   "outputs": [],
   "source": [
    "dftitles = pd.read_json('Output/metadata_with_title.json', lines=True)"
   ]
  },
  {
   "cell_type": "code",
   "execution_count": 5,
   "metadata": {
    "ExecuteTime": {
     "end_time": "2020-11-29T07:21:33.635580Z",
     "start_time": "2020-11-29T07:21:33.589578Z"
    }
   },
   "outputs": [
    {
     "data": {
      "text/html": [
       "<div>\n",
       "<style scoped>\n",
       "    .dataframe tbody tr th:only-of-type {\n",
       "        vertical-align: middle;\n",
       "    }\n",
       "\n",
       "    .dataframe tbody tr th {\n",
       "        vertical-align: top;\n",
       "    }\n",
       "\n",
       "    .dataframe thead th {\n",
       "        text-align: right;\n",
       "    }\n",
       "</style>\n",
       "<table border=\"1\" class=\"dataframe\">\n",
       "  <thead>\n",
       "    <tr style=\"text-align: right;\">\n",
       "      <th></th>\n",
       "      <th>asin</th>\n",
       "      <th>description</th>\n",
       "      <th>price</th>\n",
       "      <th>imUrl</th>\n",
       "      <th>related</th>\n",
       "      <th>categories</th>\n",
       "      <th>salesRank</th>\n",
       "      <th>brand</th>\n",
       "      <th>title</th>\n",
       "    </tr>\n",
       "  </thead>\n",
       "  <tbody>\n",
       "    <tr>\n",
       "      <th>0</th>\n",
       "      <td>1603420304</td>\n",
       "      <td>In less time and for less money than it takes ...</td>\n",
       "      <td>7.69</td>\n",
       "      <td>http://ecx.images-amazon.com/images/I/51IEqPrF...</td>\n",
       "      <td>{'also_viewed': ['B001OLRKLQ', 'B004J35JIC', '...</td>\n",
       "      <td>[[Books, Cookbooks, Food &amp; Wine, Quick &amp; Easy]...</td>\n",
       "      <td>None</td>\n",
       "      <td>None</td>\n",
       "      <td>None</td>\n",
       "    </tr>\n",
       "    <tr>\n",
       "      <th>1</th>\n",
       "      <td>B0002IQ15S</td>\n",
       "      <td>This universal DC adapter powers/charges porta...</td>\n",
       "      <td>19.99</td>\n",
       "      <td>http://ecx.images-amazon.com/images/I/21QFJM28...</td>\n",
       "      <td>{'also_viewed': ['B00511PS3C', 'B000PI17MM', '...</td>\n",
       "      <td>[[Kindle Store, Kindle Accessories, Power Adap...</td>\n",
       "      <td>{}</td>\n",
       "      <td>None</td>\n",
       "      <td>None</td>\n",
       "    </tr>\n",
       "    <tr>\n",
       "      <th>2</th>\n",
       "      <td>B000F83SZQ</td>\n",
       "      <td>None</td>\n",
       "      <td>0.00</td>\n",
       "      <td>http://ecx.images-amazon.com/images/I/51yLqHe%...</td>\n",
       "      <td>{'also_bought': ['B0080H1C0W', 'B00LK4ZKOG', '...</td>\n",
       "      <td>[[Books, Literature &amp; Fiction], [Books, Myster...</td>\n",
       "      <td>None</td>\n",
       "      <td>None</td>\n",
       "      <td>A Matter of Policy [An Amy Brewster Mystery]</td>\n",
       "    </tr>\n",
       "    <tr>\n",
       "      <th>3</th>\n",
       "      <td>B000F83TEQ</td>\n",
       "      <td>None</td>\n",
       "      <td>NaN</td>\n",
       "      <td>http://ecx.images-amazon.com/images/I/2136NBNV...</td>\n",
       "      <td>{'also_bought': ['B00IS81LFO', 'B000FA5T6A', '...</td>\n",
       "      <td>[[Books, Literature &amp; Fiction], [Books, Myster...</td>\n",
       "      <td>None</td>\n",
       "      <td>None</td>\n",
       "      <td>Gold Coffin Murder Case</td>\n",
       "    </tr>\n",
       "    <tr>\n",
       "      <th>4</th>\n",
       "      <td>B000F83STC</td>\n",
       "      <td>None</td>\n",
       "      <td>NaN</td>\n",
       "      <td>http://g-ecx.images-amazon.com/images/G/01/x-s...</td>\n",
       "      <td>None</td>\n",
       "      <td>[[Books, Literature &amp; Fiction, Erotica], [Kind...</td>\n",
       "      <td>None</td>\n",
       "      <td>None</td>\n",
       "      <td>Erotic Flowers</td>\n",
       "    </tr>\n",
       "  </tbody>\n",
       "</table>\n",
       "</div>"
      ],
      "text/plain": [
       "         asin                                        description  price  \\\n",
       "0  1603420304  In less time and for less money than it takes ...   7.69   \n",
       "1  B0002IQ15S  This universal DC adapter powers/charges porta...  19.99   \n",
       "2  B000F83SZQ                                               None   0.00   \n",
       "3  B000F83TEQ                                               None    NaN   \n",
       "4  B000F83STC                                               None    NaN   \n",
       "\n",
       "                                               imUrl  \\\n",
       "0  http://ecx.images-amazon.com/images/I/51IEqPrF...   \n",
       "1  http://ecx.images-amazon.com/images/I/21QFJM28...   \n",
       "2  http://ecx.images-amazon.com/images/I/51yLqHe%...   \n",
       "3  http://ecx.images-amazon.com/images/I/2136NBNV...   \n",
       "4  http://g-ecx.images-amazon.com/images/G/01/x-s...   \n",
       "\n",
       "                                             related  \\\n",
       "0  {'also_viewed': ['B001OLRKLQ', 'B004J35JIC', '...   \n",
       "1  {'also_viewed': ['B00511PS3C', 'B000PI17MM', '...   \n",
       "2  {'also_bought': ['B0080H1C0W', 'B00LK4ZKOG', '...   \n",
       "3  {'also_bought': ['B00IS81LFO', 'B000FA5T6A', '...   \n",
       "4                                               None   \n",
       "\n",
       "                                          categories salesRank brand  \\\n",
       "0  [[Books, Cookbooks, Food & Wine, Quick & Easy]...      None  None   \n",
       "1  [[Kindle Store, Kindle Accessories, Power Adap...        {}  None   \n",
       "2  [[Books, Literature & Fiction], [Books, Myster...      None  None   \n",
       "3  [[Books, Literature & Fiction], [Books, Myster...      None  None   \n",
       "4  [[Books, Literature & Fiction, Erotica], [Kind...      None  None   \n",
       "\n",
       "                                          title  \n",
       "0                                          None  \n",
       "1                                          None  \n",
       "2  A Matter of Policy [An Amy Brewster Mystery]  \n",
       "3                       Gold Coffin Murder Case  \n",
       "4                                Erotic Flowers  "
      ]
     },
     "execution_count": 5,
     "metadata": {},
     "output_type": "execute_result"
    }
   ],
   "source": [
    "dftitles.head()"
   ]
  },
  {
   "cell_type": "markdown",
   "metadata": {},
   "source": [
    "# Merge the 2 dataframes together"
   ]
  },
  {
   "cell_type": "code",
   "execution_count": 6,
   "metadata": {
    "ExecuteTime": {
     "end_time": "2020-11-29T07:21:34.938609Z",
     "start_time": "2020-11-29T07:21:34.928609Z"
    }
   },
   "outputs": [
    {
     "name": "stdout",
     "output_type": "stream",
     "text": [
      "There's only 61935 distinct books referenced in Kindle reviews, versus the number of distinct books (434972) in the metadata.\n"
     ]
    }
   ],
   "source": [
    "print(f\"There's only {len(df)} distinct books referenced in Kindle reviews, versus the number of distinct books ({len(dftitles)}) in the metadata.\")"
   ]
  },
  {
   "cell_type": "code",
   "execution_count": 7,
   "metadata": {
    "ExecuteTime": {
     "end_time": "2020-11-29T07:21:38.065895Z",
     "start_time": "2020-11-29T07:21:37.264619Z"
    }
   },
   "outputs": [],
   "source": [
    "dfout = dftitles.merge(df, left_on='asin', right_on='asin', how='left')"
   ]
  },
  {
   "cell_type": "code",
   "execution_count": 8,
   "metadata": {
    "ExecuteTime": {
     "end_time": "2020-11-29T07:21:39.482686Z",
     "start_time": "2020-11-29T07:21:39.239668Z"
    }
   },
   "outputs": [],
   "source": [
    "dfout.rename(columns={'AVG(overall)':'avg_rating'}, inplace=True)"
   ]
  },
  {
   "cell_type": "code",
   "execution_count": 11,
   "metadata": {
    "ExecuteTime": {
     "end_time": "2020-11-29T07:23:01.083633Z",
     "start_time": "2020-11-29T07:23:01.016632Z"
    }
   },
   "outputs": [],
   "source": [
    "dfout = dfout.fillna({'avg_rating': 0})"
   ]
  },
  {
   "cell_type": "markdown",
   "metadata": {},
   "source": [
    "# Export the merged dataframe"
   ]
  },
  {
   "cell_type": "code",
   "execution_count": 13,
   "metadata": {
    "ExecuteTime": {
     "end_time": "2020-11-29T07:23:19.294242Z",
     "start_time": "2020-11-29T07:23:06.575426Z"
    }
   },
   "outputs": [],
   "source": [
    "dfout.to_json('Output/kindle_metadata_with_title_and_avgrating.json', orient='records', lines=True)"
   ]
  },
  {
   "cell_type": "code",
   "execution_count": null,
   "metadata": {},
   "outputs": [],
   "source": []
  }
 ],
 "metadata": {
  "kernelspec": {
   "display_name": "Python [conda env:.conda-internship]",
   "language": "python",
   "name": "conda-env-.conda-internship-py"
  },
  "language_info": {
   "codemirror_mode": {
    "name": "ipython",
    "version": 3
   },
   "file_extension": ".py",
   "mimetype": "text/x-python",
   "name": "python",
   "nbconvert_exporter": "python",
   "pygments_lexer": "ipython3",
   "version": "3.7.7"
  }
 },
 "nbformat": 4,
 "nbformat_minor": 4
}
