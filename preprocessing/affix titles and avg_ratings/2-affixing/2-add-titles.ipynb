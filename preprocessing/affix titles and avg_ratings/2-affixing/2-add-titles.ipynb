{
 "cells": [
  {
   "cell_type": "code",
   "execution_count": 1,
   "metadata": {
    "ExecuteTime": {
     "end_time": "2020-11-15T08:16:59.802830Z",
     "start_time": "2020-11-15T08:16:59.247639Z"
    }
   },
   "outputs": [],
   "source": [
    "import ast\n",
    "import pandas as pd\n",
    "import numpy as np\n",
    "from tqdm.notebook import tqdm"
   ]
  },
  {
   "cell_type": "markdown",
   "metadata": {},
   "source": [
    "`'meta_Kindle_Store.json'` is the original file, with no titles.\n",
    "\n",
    "We obtained it from (then unzipped and renamed) https://istd50043.s3-ap-southeast-1.amazonaws.com/meta_kindle_store.zip"
   ]
  },
  {
   "cell_type": "code",
   "execution_count": 2,
   "metadata": {
    "ExecuteTime": {
     "end_time": "2020-11-15T08:18:34.767212Z",
     "start_time": "2020-11-15T08:17:14.765978Z"
    }
   },
   "outputs": [
    {
     "data": {
      "application/vnd.jupyter.widget-view+json": {
       "model_id": "7ee1c2e23c6e4f35b3af674aa4a20a23",
       "version_major": 2,
       "version_minor": 0
      },
      "text/plain": [
       "HBox(children=(FloatProgress(value=1.0, bar_style='info', max=1.0), HTML(value='')))"
      ]
     },
     "metadata": {},
     "output_type": "display_data"
    },
    {
     "name": "stdout",
     "output_type": "stream",
     "text": [
      "\n"
     ]
    }
   ],
   "source": [
    "data = []\n",
    "with open('meta_Kindle_Store.json') as f: # 434k entries\n",
    "    for line in tqdm(f):\n",
    "        data.append(ast.literal_eval(line))"
   ]
  },
  {
   "cell_type": "code",
   "execution_count": 3,
   "metadata": {
    "ExecuteTime": {
     "end_time": "2020-11-15T08:18:38.082092Z",
     "start_time": "2020-11-15T08:18:36.685985Z"
    }
   },
   "outputs": [],
   "source": [
    "dfin = pd.DataFrame(data)\n",
    "dfin.drop('title', inplace=True, axis=1)"
   ]
  },
  {
   "cell_type": "code",
   "execution_count": 4,
   "metadata": {
    "ExecuteTime": {
     "end_time": "2020-11-15T08:18:39.109667Z",
     "start_time": "2020-11-15T08:18:39.053665Z"
    }
   },
   "outputs": [
    {
     "data": {
      "text/html": [
       "<div>\n",
       "<style scoped>\n",
       "    .dataframe tbody tr th:only-of-type {\n",
       "        vertical-align: middle;\n",
       "    }\n",
       "\n",
       "    .dataframe tbody tr th {\n",
       "        vertical-align: top;\n",
       "    }\n",
       "\n",
       "    .dataframe thead th {\n",
       "        text-align: right;\n",
       "    }\n",
       "</style>\n",
       "<table border=\"1\" class=\"dataframe\">\n",
       "  <thead>\n",
       "    <tr style=\"text-align: right;\">\n",
       "      <th></th>\n",
       "      <th>asin</th>\n",
       "      <th>description</th>\n",
       "      <th>price</th>\n",
       "      <th>imUrl</th>\n",
       "      <th>related</th>\n",
       "      <th>categories</th>\n",
       "      <th>salesRank</th>\n",
       "      <th>brand</th>\n",
       "    </tr>\n",
       "  </thead>\n",
       "  <tbody>\n",
       "    <tr>\n",
       "      <th>0</th>\n",
       "      <td>1603420304</td>\n",
       "      <td>In less time and for less money than it takes ...</td>\n",
       "      <td>7.69</td>\n",
       "      <td>http://ecx.images-amazon.com/images/I/51IEqPrF...</td>\n",
       "      <td>{'also_viewed': ['B001OLRKLQ', 'B004J35JIC', '...</td>\n",
       "      <td>[[Books, Cookbooks, Food &amp; Wine, Quick &amp; Easy]...</td>\n",
       "      <td>NaN</td>\n",
       "      <td>NaN</td>\n",
       "    </tr>\n",
       "    <tr>\n",
       "      <th>1</th>\n",
       "      <td>B0002IQ15S</td>\n",
       "      <td>This universal DC adapter powers/charges porta...</td>\n",
       "      <td>19.99</td>\n",
       "      <td>http://ecx.images-amazon.com/images/I/21QFJM28...</td>\n",
       "      <td>{'also_viewed': ['B00511PS3C', 'B000PI17MM', '...</td>\n",
       "      <td>[[Kindle Store, Kindle Accessories, Power Adap...</td>\n",
       "      <td>{}</td>\n",
       "      <td>NaN</td>\n",
       "    </tr>\n",
       "    <tr>\n",
       "      <th>2</th>\n",
       "      <td>B000F83SZQ</td>\n",
       "      <td>NaN</td>\n",
       "      <td>0.00</td>\n",
       "      <td>http://ecx.images-amazon.com/images/I/51yLqHe%...</td>\n",
       "      <td>{'also_bought': ['B0080H1C0W', 'B00LK4ZKOG', '...</td>\n",
       "      <td>[[Books, Literature &amp; Fiction], [Books, Myster...</td>\n",
       "      <td>NaN</td>\n",
       "      <td>NaN</td>\n",
       "    </tr>\n",
       "    <tr>\n",
       "      <th>3</th>\n",
       "      <td>B000F83TEQ</td>\n",
       "      <td>NaN</td>\n",
       "      <td>NaN</td>\n",
       "      <td>http://ecx.images-amazon.com/images/I/2136NBNV...</td>\n",
       "      <td>{'also_bought': ['B00IS81LFO', 'B000FA5T6A', '...</td>\n",
       "      <td>[[Books, Literature &amp; Fiction], [Books, Myster...</td>\n",
       "      <td>NaN</td>\n",
       "      <td>NaN</td>\n",
       "    </tr>\n",
       "    <tr>\n",
       "      <th>4</th>\n",
       "      <td>B000F83STC</td>\n",
       "      <td>NaN</td>\n",
       "      <td>NaN</td>\n",
       "      <td>http://g-ecx.images-amazon.com/images/G/01/x-s...</td>\n",
       "      <td>NaN</td>\n",
       "      <td>[[Books, Literature &amp; Fiction, Erotica], [Kind...</td>\n",
       "      <td>NaN</td>\n",
       "      <td>NaN</td>\n",
       "    </tr>\n",
       "    <tr>\n",
       "      <th>...</th>\n",
       "      <td>...</td>\n",
       "      <td>...</td>\n",
       "      <td>...</td>\n",
       "      <td>...</td>\n",
       "      <td>...</td>\n",
       "      <td>...</td>\n",
       "      <td>...</td>\n",
       "      <td>...</td>\n",
       "    </tr>\n",
       "    <tr>\n",
       "      <th>434697</th>\n",
       "      <td>B00M111QCM</td>\n",
       "      <td>NaN</td>\n",
       "      <td>NaN</td>\n",
       "      <td>http://ecx.images-amazon.com/images/I/51D8m1ml...</td>\n",
       "      <td>NaN</td>\n",
       "      <td>[[Books, Business &amp; Money, Industries &amp; Profes...</td>\n",
       "      <td>NaN</td>\n",
       "      <td>NaN</td>\n",
       "    </tr>\n",
       "    <tr>\n",
       "      <th>434698</th>\n",
       "      <td>B00M0AEPXG</td>\n",
       "      <td>NaN</td>\n",
       "      <td>NaN</td>\n",
       "      <td>http://ecx.images-amazon.com/images/I/51hcXTUe...</td>\n",
       "      <td>NaN</td>\n",
       "      <td>[[Books, Politics &amp; Social Sciences, Women's S...</td>\n",
       "      <td>NaN</td>\n",
       "      <td>NaN</td>\n",
       "    </tr>\n",
       "    <tr>\n",
       "      <th>434699</th>\n",
       "      <td>B00LZFHL7Y</td>\n",
       "      <td>NaN</td>\n",
       "      <td>0.99</td>\n",
       "      <td>http://ecx.images-amazon.com/images/I/41RDitlH...</td>\n",
       "      <td>{'also_bought': ['B00LXK4KIO', 'B00LZ19FE0', '...</td>\n",
       "      <td>[[Books, Literature &amp; Fiction, Erotica], [Kind...</td>\n",
       "      <td>NaN</td>\n",
       "      <td>NaN</td>\n",
       "    </tr>\n",
       "    <tr>\n",
       "      <th>434700</th>\n",
       "      <td>B00LV8M74W</td>\n",
       "      <td>NaN</td>\n",
       "      <td>3.99</td>\n",
       "      <td>http://ecx.images-amazon.com/images/I/51qUjk4b...</td>\n",
       "      <td>{'also_bought': ['B00LYOC1R6', 'B00L0WXZIG', '...</td>\n",
       "      <td>[[Books, Literature &amp; Fiction, Genre Fiction, ...</td>\n",
       "      <td>NaN</td>\n",
       "      <td>NaN</td>\n",
       "    </tr>\n",
       "    <tr>\n",
       "      <th>434701</th>\n",
       "      <td>B00LV8STE4</td>\n",
       "      <td>NaN</td>\n",
       "      <td>NaN</td>\n",
       "      <td>http://ecx.images-amazon.com/images/I/51l7MLl%...</td>\n",
       "      <td>NaN</td>\n",
       "      <td>[[Books, Arts &amp; Photography, Music, Musical Ge...</td>\n",
       "      <td>NaN</td>\n",
       "      <td>NaN</td>\n",
       "    </tr>\n",
       "  </tbody>\n",
       "</table>\n",
       "<p>434702 rows × 8 columns</p>\n",
       "</div>"
      ],
      "text/plain": [
       "              asin                                        description  price  \\\n",
       "0       1603420304  In less time and for less money than it takes ...   7.69   \n",
       "1       B0002IQ15S  This universal DC adapter powers/charges porta...  19.99   \n",
       "2       B000F83SZQ                                                NaN   0.00   \n",
       "3       B000F83TEQ                                                NaN    NaN   \n",
       "4       B000F83STC                                                NaN    NaN   \n",
       "...            ...                                                ...    ...   \n",
       "434697  B00M111QCM                                                NaN    NaN   \n",
       "434698  B00M0AEPXG                                                NaN    NaN   \n",
       "434699  B00LZFHL7Y                                                NaN   0.99   \n",
       "434700  B00LV8M74W                                                NaN   3.99   \n",
       "434701  B00LV8STE4                                                NaN    NaN   \n",
       "\n",
       "                                                    imUrl  \\\n",
       "0       http://ecx.images-amazon.com/images/I/51IEqPrF...   \n",
       "1       http://ecx.images-amazon.com/images/I/21QFJM28...   \n",
       "2       http://ecx.images-amazon.com/images/I/51yLqHe%...   \n",
       "3       http://ecx.images-amazon.com/images/I/2136NBNV...   \n",
       "4       http://g-ecx.images-amazon.com/images/G/01/x-s...   \n",
       "...                                                   ...   \n",
       "434697  http://ecx.images-amazon.com/images/I/51D8m1ml...   \n",
       "434698  http://ecx.images-amazon.com/images/I/51hcXTUe...   \n",
       "434699  http://ecx.images-amazon.com/images/I/41RDitlH...   \n",
       "434700  http://ecx.images-amazon.com/images/I/51qUjk4b...   \n",
       "434701  http://ecx.images-amazon.com/images/I/51l7MLl%...   \n",
       "\n",
       "                                                  related  \\\n",
       "0       {'also_viewed': ['B001OLRKLQ', 'B004J35JIC', '...   \n",
       "1       {'also_viewed': ['B00511PS3C', 'B000PI17MM', '...   \n",
       "2       {'also_bought': ['B0080H1C0W', 'B00LK4ZKOG', '...   \n",
       "3       {'also_bought': ['B00IS81LFO', 'B000FA5T6A', '...   \n",
       "4                                                     NaN   \n",
       "...                                                   ...   \n",
       "434697                                                NaN   \n",
       "434698                                                NaN   \n",
       "434699  {'also_bought': ['B00LXK4KIO', 'B00LZ19FE0', '...   \n",
       "434700  {'also_bought': ['B00LYOC1R6', 'B00L0WXZIG', '...   \n",
       "434701                                                NaN   \n",
       "\n",
       "                                               categories salesRank brand  \n",
       "0       [[Books, Cookbooks, Food & Wine, Quick & Easy]...       NaN   NaN  \n",
       "1       [[Kindle Store, Kindle Accessories, Power Adap...        {}   NaN  \n",
       "2       [[Books, Literature & Fiction], [Books, Myster...       NaN   NaN  \n",
       "3       [[Books, Literature & Fiction], [Books, Myster...       NaN   NaN  \n",
       "4       [[Books, Literature & Fiction, Erotica], [Kind...       NaN   NaN  \n",
       "...                                                   ...       ...   ...  \n",
       "434697  [[Books, Business & Money, Industries & Profes...       NaN   NaN  \n",
       "434698  [[Books, Politics & Social Sciences, Women's S...       NaN   NaN  \n",
       "434699  [[Books, Literature & Fiction, Erotica], [Kind...       NaN   NaN  \n",
       "434700  [[Books, Literature & Fiction, Genre Fiction, ...       NaN   NaN  \n",
       "434701  [[Books, Arts & Photography, Music, Musical Ge...       NaN   NaN  \n",
       "\n",
       "[434702 rows x 8 columns]"
      ]
     },
     "execution_count": 4,
     "metadata": {},
     "output_type": "execute_result"
    }
   ],
   "source": [
    "dfin"
   ]
  },
  {
   "cell_type": "markdown",
   "metadata": {},
   "source": [
    "## Load the alltitles.csv, created from Step 1 notebook"
   ]
  },
  {
   "cell_type": "code",
   "execution_count": 5,
   "metadata": {
    "ExecuteTime": {
     "end_time": "2020-11-15T08:18:49.819143Z",
     "start_time": "2020-11-15T08:18:49.221761Z"
    }
   },
   "outputs": [],
   "source": [
    "df = pd.read_csv('intermediate/alltitles.csv')"
   ]
  },
  {
   "cell_type": "code",
   "execution_count": 6,
   "metadata": {
    "ExecuteTime": {
     "end_time": "2020-11-15T08:18:50.085162Z",
     "start_time": "2020-11-15T08:18:50.064161Z"
    }
   },
   "outputs": [
    {
     "data": {
      "text/html": [
       "<div>\n",
       "<style scoped>\n",
       "    .dataframe tbody tr th:only-of-type {\n",
       "        vertical-align: middle;\n",
       "    }\n",
       "\n",
       "    .dataframe tbody tr th {\n",
       "        vertical-align: top;\n",
       "    }\n",
       "\n",
       "    .dataframe thead th {\n",
       "        text-align: right;\n",
       "    }\n",
       "</style>\n",
       "<table border=\"1\" class=\"dataframe\">\n",
       "  <thead>\n",
       "    <tr style=\"text-align: right;\">\n",
       "      <th></th>\n",
       "      <th>asin</th>\n",
       "      <th>title</th>\n",
       "    </tr>\n",
       "  </thead>\n",
       "  <tbody>\n",
       "    <tr>\n",
       "      <th>0</th>\n",
       "      <td>1603420304</td>\n",
       "      <td>NaN</td>\n",
       "    </tr>\n",
       "    <tr>\n",
       "      <th>1</th>\n",
       "      <td>B0002IQ15S</td>\n",
       "      <td>NaN</td>\n",
       "    </tr>\n",
       "    <tr>\n",
       "      <th>2</th>\n",
       "      <td>B000F83SZQ</td>\n",
       "      <td>A Matter of Policy [An Amy Brewster Mystery]</td>\n",
       "    </tr>\n",
       "    <tr>\n",
       "      <th>3</th>\n",
       "      <td>B000F83TEQ</td>\n",
       "      <td>Gold Coffin Murder Case</td>\n",
       "    </tr>\n",
       "    <tr>\n",
       "      <th>4</th>\n",
       "      <td>B000F83STC</td>\n",
       "      <td>Erotic Flowers</td>\n",
       "    </tr>\n",
       "    <tr>\n",
       "      <th>...</th>\n",
       "      <td>...</td>\n",
       "      <td>...</td>\n",
       "    </tr>\n",
       "    <tr>\n",
       "      <th>433614</th>\n",
       "      <td>B00M111QCM</td>\n",
       "      <td>How NOT to suck at hiring people using craigslist</td>\n",
       "    </tr>\n",
       "    <tr>\n",
       "      <th>433615</th>\n",
       "      <td>B00M0AEPXG</td>\n",
       "      <td>How to Be a Queen</td>\n",
       "    </tr>\n",
       "    <tr>\n",
       "      <th>433616</th>\n",
       "      <td>B00LZFHL7Y</td>\n",
       "      <td>Restoring Hope</td>\n",
       "    </tr>\n",
       "    <tr>\n",
       "      <th>433617</th>\n",
       "      <td>B00LV8M74W</td>\n",
       "      <td>Contagious</td>\n",
       "    </tr>\n",
       "    <tr>\n",
       "      <th>433618</th>\n",
       "      <td>B00LV8STE4</td>\n",
       "      <td>Runnin' With The Big Dogs</td>\n",
       "    </tr>\n",
       "  </tbody>\n",
       "</table>\n",
       "<p>433619 rows × 2 columns</p>\n",
       "</div>"
      ],
      "text/plain": [
       "              asin                                              title\n",
       "0       1603420304                                                NaN\n",
       "1       B0002IQ15S                                                NaN\n",
       "2       B000F83SZQ       A Matter of Policy [An Amy Brewster Mystery]\n",
       "3       B000F83TEQ                            Gold Coffin Murder Case\n",
       "4       B000F83STC                                     Erotic Flowers\n",
       "...            ...                                                ...\n",
       "433614  B00M111QCM  How NOT to suck at hiring people using craigslist\n",
       "433615  B00M0AEPXG                                  How to Be a Queen\n",
       "433616  B00LZFHL7Y                                     Restoring Hope\n",
       "433617  B00LV8M74W                                         Contagious\n",
       "433618  B00LV8STE4                          Runnin' With The Big Dogs\n",
       "\n",
       "[433619 rows x 2 columns]"
      ]
     },
     "execution_count": 6,
     "metadata": {},
     "output_type": "execute_result"
    }
   ],
   "source": [
    "df"
   ]
  },
  {
   "cell_type": "markdown",
   "metadata": {},
   "source": [
    "## Merge the 2 dfs together"
   ]
  },
  {
   "cell_type": "code",
   "execution_count": 7,
   "metadata": {
    "ExecuteTime": {
     "end_time": "2020-11-15T08:19:29.596165Z",
     "start_time": "2020-11-15T08:19:28.606195Z"
    }
   },
   "outputs": [],
   "source": [
    "dfout = dfin.merge(df, left_on='asin', right_on='asin', how='left')"
   ]
  },
  {
   "cell_type": "code",
   "execution_count": 8,
   "metadata": {
    "ExecuteTime": {
     "end_time": "2020-11-15T08:19:29.628170Z",
     "start_time": "2020-11-15T08:19:29.598167Z"
    }
   },
   "outputs": [
    {
     "data": {
      "text/plain": [
       "15284"
      ]
     },
     "execution_count": 8,
     "metadata": {},
     "output_type": "execute_result"
    }
   ],
   "source": [
    "dfout['title'].isna().sum()"
   ]
  },
  {
   "cell_type": "code",
   "execution_count": 9,
   "metadata": {
    "ExecuteTime": {
     "end_time": "2020-11-15T08:19:29.739869Z",
     "start_time": "2020-11-15T08:19:29.732868Z"
    }
   },
   "outputs": [
    {
     "data": {
      "text/plain": [
       "434972"
      ]
     },
     "execution_count": 9,
     "metadata": {},
     "output_type": "execute_result"
    }
   ],
   "source": [
    "len(dfout)"
   ]
  },
  {
   "cell_type": "markdown",
   "metadata": {},
   "source": [
    "## Write to .json file"
   ]
  },
  {
   "cell_type": "code",
   "execution_count": 11,
   "metadata": {
    "ExecuteTime": {
     "end_time": "2020-11-15T08:20:32.085451Z",
     "start_time": "2020-11-15T08:20:18.823167Z"
    }
   },
   "outputs": [],
   "source": [
    "dfout.to_json('Output/metadata_with_title.json', orient='records', lines=True)"
   ]
  },
  {
   "cell_type": "code",
   "execution_count": null,
   "metadata": {},
   "outputs": [],
   "source": []
  }
 ],
 "metadata": {
  "kernelspec": {
   "display_name": "Python [conda env:.conda-internship]",
   "language": "python",
   "name": "conda-env-.conda-internship-py"
  },
  "language_info": {
   "codemirror_mode": {
    "name": "ipython",
    "version": 3
   },
   "file_extension": ".py",
   "mimetype": "text/x-python",
   "name": "python",
   "nbconvert_exporter": "python",
   "pygments_lexer": "ipython3",
   "version": "3.7.7"
  }
 },
 "nbformat": 4,
 "nbformat_minor": 4
}
