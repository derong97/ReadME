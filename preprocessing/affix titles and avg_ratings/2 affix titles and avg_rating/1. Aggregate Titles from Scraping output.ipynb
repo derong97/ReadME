{
 "cells": [
  {
   "cell_type": "code",
   "execution_count": 1,
   "metadata": {
    "ExecuteTime": {
     "end_time": "2020-11-15T08:16:13.857318Z",
     "start_time": "2020-11-15T08:16:13.381801Z"
    }
   },
   "outputs": [],
   "source": [
    "import pandas as pd\n",
    "import numpy as np"
   ]
  },
  {
   "cell_type": "markdown",
   "metadata": {},
   "source": [
    "After running webscrapping, you might have separate files. \n",
    "Convert all .csvs files into TSVs. Before running the below cells. Using Excel. "
   ]
  },
  {
   "cell_type": "markdown",
   "metadata": {},
   "source": [
    "In this case, we have 5 .csvs, so we convert into .txt (tab-limited) using Excel.\n",
    "\n",
    "**We then store the these 5 .txt files into `/intermediate`.**"
   ]
  },
  {
   "cell_type": "code",
   "execution_count": 2,
   "metadata": {
    "ExecuteTime": {
     "end_time": "2020-11-15T08:16:14.153138Z",
     "start_time": "2020-11-15T08:16:14.141967Z"
    }
   },
   "outputs": [
    {
     "data": {
      "text/plain": [
       "['intermediate/output1.txt',\n",
       " 'intermediate/output2.txt',\n",
       " 'intermediate/output3.txt',\n",
       " 'intermediate/output4.txt',\n",
       " 'intermediate/output5.txt']"
      ]
     },
     "execution_count": 2,
     "metadata": {},
     "output_type": "execute_result"
    }
   ],
   "source": [
    "directory = \"intermediate\"\n",
    "list_of_files = []\n",
    "for i in range(1,6):\n",
    "    list_of_files.append(f'{directory}/output{i}.txt')\n",
    "list_of_files"
   ]
  },
  {
   "cell_type": "code",
   "execution_count": 3,
   "metadata": {
    "ExecuteTime": {
     "end_time": "2020-11-15T08:16:15.769632Z",
     "start_time": "2020-11-15T08:16:15.748646Z"
    }
   },
   "outputs": [],
   "source": [
    "outputdf = pd.DataFrame(columns=['asin', 'title'])"
   ]
  },
  {
   "cell_type": "code",
   "execution_count": 4,
   "metadata": {
    "ExecuteTime": {
     "end_time": "2020-11-15T08:16:17.421231Z",
     "start_time": "2020-11-15T08:16:16.164634Z"
    }
   },
   "outputs": [
    {
     "name": "stderr",
     "output_type": "stream",
     "text": [
      "C:\\Users\\kting\\.conda\\envs\\internship\\lib\\site-packages\\IPython\\core\\interactiveshell.py:3072: DtypeWarning: Columns (5,6,7,8,9) have mixed types.Specify dtype option on import or set low_memory=False.\n",
      "  interactivity=interactivity, compiler=compiler, result=result)\n"
     ]
    }
   ],
   "source": [
    "list_of_df = []\n",
    "for f in list_of_files:\n",
    "    df = pd.read_csv(f, sep='\\t', header=None)\n",
    "    df.rename(columns={1:'title'}, inplace=True)\n",
    "    df['asin'] = df[0].map(lambda x : x.strip('\\n'))\n",
    "    df = df.drop(0, axis=1)\n",
    "    df['len'] = df['asin'].map(lambda x : len(x))\n",
    "    df = df[df['len'] == 10].copy()\n",
    "    df = df[['asin', 'title']]\n",
    "    list_of_df.append(df)\n",
    "outputdf = pd.concat(list_of_df).reset_index(drop=True)"
   ]
  },
  {
   "cell_type": "code",
   "execution_count": 5,
   "metadata": {
    "ExecuteTime": {
     "end_time": "2020-11-15T08:16:19.210967Z",
     "start_time": "2020-11-15T08:16:18.214629Z"
    }
   },
   "outputs": [],
   "source": [
    "outputdf.to_csv('intermediate/alltitles.csv', index=False)"
   ]
  }
 ],
 "metadata": {
  "kernelspec": {
   "display_name": "Python [conda env:.conda-internship]",
   "language": "python",
   "name": "conda-env-.conda-internship-py"
  },
  "language_info": {
   "codemirror_mode": {
    "name": "ipython",
    "version": 3
   },
   "file_extension": ".py",
   "mimetype": "text/x-python",
   "name": "python",
   "nbconvert_exporter": "python",
   "pygments_lexer": "ipython3",
   "version": "3.7.7"
  }
 },
 "nbformat": 4,
 "nbformat_minor": 4
}
